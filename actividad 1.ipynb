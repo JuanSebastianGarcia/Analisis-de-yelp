{
 "cells": [
  {
   "cell_type": "code",
   "execution_count": null,
   "id": "b0a2facf-25fa-4489-99c0-c5f2ef75449a",
   "metadata": {},
   "outputs": [],
   "source": [
    "import nltk\n",
    "import pandas as pd\n",
    "\n",
    "# Cargar el archivo CSV\n",
    "data = pd.read_csv('data/sdata.csv', nrows=5000)  # Cargar las primeras 5000 filas\n",
    "allReviews = data['text']  # Extraer la columna de texto\n",
    "\n",
    "print(f\"oracion original : {allReviews[0]}\")\n",
    "\n",
    "palabras=nltk.word_tokenize(allReviews[0])\n",
    "\n",
    "for palabra in palabras:\n",
    "    print(palabra)"
   ]
  },
  {
   "cell_type": "code",
   "execution_count": null,
   "id": "9fd0d73c",
   "metadata": {},
   "outputs": [],
   "source": [
    "import matplotlib.pyplot as plt\n",
    "import seaborn as sns\n",
    "import nltk\n",
    "nltk.download('punkt')\n",
    "from nltk.tokenize import word_tokenize\n",
    "\n",
    "# Calculamos el número de palabras en cada reseña\n",
    "data['review_length'] = AllReviews.apply(lambda x: len(word_tokenize(x)))\n",
    "\n",
    "# Encontramos la reseña más corta y la más larga\n",
    "shortest_review = data.loc[data['review_length'].idxmin()]['text']\n",
    "longest_review = data.loc[data['review_length'].idxmax()]['text']\n",
    "\n",
    "print(f\"Reseña más corta (longitud {data['review_length'].min()} palabras):\\n{shortest_review}\\n\")\n",
    "print(f\"Reseña más larga (longitud {data['review_length'].max()} palabras):\\n{longest_review}\\n\")\n",
    "\n",
    "# Graficar el histograma de longitudes de reseñas\n",
    "plt.figure(figsize=(10,6))\n",
    "sns.histplot(data['review_length'], bins=30, kde=True)\n",
    "plt.title(\"Distribución de las longitudes de las reseñas\")\n",
    "plt.xlabel(\"Número de palabras\")\n",
    "plt.ylabel(\"Frecuencia\")\n",
    "plt.show()\n"
   ]
  }
 ],
 "metadata": {
  "kernelspec": {
   "display_name": "Python 3 (ipykernel)",
   "language": "python",
   "name": "python3"
  },
  "language_info": {
   "codemirror_mode": {
    "name": "ipython",
    "version": 3
   },
   "file_extension": ".py",
   "mimetype": "text/x-python",
   "name": "python",
   "nbconvert_exporter": "python",
   "pygments_lexer": "ipython3",
   "version": "3.12.4"
  }
 },
 "nbformat": 4,
 "nbformat_minor": 5
}
