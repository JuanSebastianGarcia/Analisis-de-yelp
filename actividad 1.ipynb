{
 "cells": [
  {
   "cell_type": "code",
   "execution_count": 7,
   "id": "b0a2facf-25fa-4489-99c0-c5f2ef75449a",
   "metadata": {},
   "outputs": [
    {
     "name": "stdout",
     "output_type": "stream",
     "text": [
      "oracion original : Super simple place but amazing nonetheless. It's been around since the 30's and they still serve the same thing they started with: a bologna and salami sandwich with mustard. \n",
      "\n",
      "Staff was very helpful and friendly.\n",
      "Super simple place but amazing nonetheless.\n",
      "It's been around since the 30's and they still serve the same thing they started with: a bologna and salami sandwich with mustard.\n",
      "Staff was very helpful and friendly.\n"
     ]
    }
   ],
   "source": [
    "import nltk\n",
    "import pandas as pd\n",
    "\n",
    "# Cargar el archivo CSV\n",
    "data = pd.read_csv('data/sdata.csv', nrows=5000)  # Cargar las primeras 5000 filas\n",
    "allReviews = data['text']  # Extraer la columna de texto\n",
    "\n",
    "print(f\"oracion original : {allReviews[0]}\")\n",
    "\n",
    "oraciones=nltk.sent_tokenize(allReviews[0])\n",
    "\n",
    "for oracion in oraciones:\n",
    "    print(oracion)\n",
    "\n",
    "\n",
    "\n",
    "\n",
    "\n",
    "\n",
    "\n",
    "\n"
   ]
  }
 ],
 "metadata": {
  "kernelspec": {
   "display_name": "Python 3 (ipykernel)",
   "language": "python",
   "name": "python3"
  },
  "language_info": {
   "codemirror_mode": {
    "name": "ipython",
    "version": 3
   },
   "file_extension": ".py",
   "mimetype": "text/x-python",
   "name": "python",
   "nbconvert_exporter": "python",
   "pygments_lexer": "ipython3",
   "version": "3.12.4"
  }
 },
 "nbformat": 4,
 "nbformat_minor": 5
}
