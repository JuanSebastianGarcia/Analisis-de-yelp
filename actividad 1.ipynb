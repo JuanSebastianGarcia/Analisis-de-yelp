{
 "cells": [
  {
   "cell_type": "code",
   "execution_count": null,
   "id": "b0a2facf-25fa-4489-99c0-c5f2ef75449a",
   "metadata": {},
   "outputs": [],
   "source": [
    "import nltk\n",
    "import pandas as pd\n",
    "\n",
    "nltk.download('punkt')\n",
    "nltk.download('punkt_tab')\n",
    "\n",
    "# Cargar el archivo CSV\n",
    "data = pd.read_csv('data/sdata.csv', nrows=5000)  # Cargar las primeras 5000 filas\n",
    "allReviews = data['text']  # Extraer la columna de texto\n",
    "\n",
    "tokens=nltk.word_tokenize(allReviews[0])\n"
   ]
  },
  {
   "cell_type": "code",
   "execution_count": null,
   "id": "9fd0d73c",
   "metadata": {},
   "outputs": [],
   "source": [
    "import matplotlib.pyplot as plt\n",
    "import seaborn as sns\n",
    "\n",
    "# Calculamos el número de palabras en cada reseña\n",
    "data['review_length'] = allReviews.apply(lambda x: len(nltk.word_tokenize(x)))\n",
    "\n",
    "# Encontramos la reseña más corta y la más larga\n",
    "shortest_review = data.loc[data['review_length'].idxmin()]['text']\n",
    "longest_review = data.loc[data['review_length'].idxmax()]['text']\n",
    "\n",
    "print(f\"Reseña más corta (longitud {data['review_length'].min()} palabras):\\n{shortest_review}\\n\")\n",
    "print(f\"Reseña más larga (longitud {data['review_length'].max()} palabras):\\n{longest_review}\\n\")\n",
    "\n",
    "# Graficar el histograma de longitudes de reseñas\n",
    "plt.figure(figsize=(10,6))\n",
    "sns.histplot(data['review_length'], bins=30, kde=True)\n",
    "plt.title(\"Distribución de las longitudes de las reseñas\")\n",
    "plt.xlabel(\"Número de palabras\")\n",
    "plt.ylabel(\"Frecuencia\")\n",
    "plt.show()\n"
   ]
  },
  {
   "cell_type": "code",
   "execution_count": 24,
   "id": "9a4c2b5d",
   "metadata": {},
   "outputs": [
    {
     "name": "stderr",
     "output_type": "stream",
     "text": [
      "[nltk_data] Downloading package stopwords to C:\\Users\\MARTHA ISABEL\n",
      "[nltk_data]     VILLAM\\AppData\\Roaming\\nltk_data...\n",
      "[nltk_data]   Unzipping corpora\\stopwords.zip.\n"
     ]
    }
   ],
   "source": [
    "from nltk.corpus import stopwords  # Asegúrate de importar el corpus de stopwords\n",
    "\n",
    "nltk.download('stopwords')\n",
    "# Eliminamos los stopwords en inglés\n",
    "stop_words = set(stopwords.words('english'))  # Cambia 'english' por el idioma que corresponda\n",
    "tokens_clean = [word for word in tokens if word.lower() not in stop_words]\n"
   ]
  }
 ],
 "metadata": {
  "kernelspec": {
   "display_name": "Python 3 (ipykernel)",
   "language": "python",
   "name": "python3"
  },
  "language_info": {
   "codemirror_mode": {
    "name": "ipython",
    "version": 3
   },
   "file_extension": ".py",
   "mimetype": "text/x-python",
   "name": "python",
   "nbconvert_exporter": "python",
   "pygments_lexer": "ipython3",
   "version": "3.12.4"
  }
 },
 "nbformat": 4,
 "nbformat_minor": 5
}
