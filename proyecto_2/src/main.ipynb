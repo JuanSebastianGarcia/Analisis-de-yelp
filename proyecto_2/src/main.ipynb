{
 "cells": [
  {
   "cell_type": "markdown",
   "metadata": {},
   "source": [
    "## Analisis ##\n",
    "En este proyecto queremos analizar cuales suelen ser los sentimientos(positivos o negativos) en las reseñas dejadas por los usuarios.\n",
    "Cada reseña cuanta con una variedad de datos, que son:\n",
    "• ID: A unique ID for each row in the dataset\n",
    "• ProductId: A reference to the product that the review is about\n",
    "• UserId: A reference to the user who left the review\n",
    "• HelpfulnessNumerator: The number of readers of the review who indicated that it was \"helpful\"\n",
    "• HelpfulnessDenominator: The total number of people who gave an indication of whether or not the review was \"helpful\"\n",
    "• Score: The star rating (1-5)\n",
    "• Time: A Unix timestamp indicating when the review was created\n",
    "\n",
    "• Summary: The user-written summary of what the review is about\n",
    "• Text: The user-written review"
   ]
  }
 ],
 "metadata": {
  "language_info": {
   "name": "python"
  }
 },
 "nbformat": 4,
 "nbformat_minor": 2
}
