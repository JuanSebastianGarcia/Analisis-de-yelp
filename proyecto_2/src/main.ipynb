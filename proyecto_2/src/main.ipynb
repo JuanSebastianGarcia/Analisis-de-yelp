{
 "cells": [
  {
   "cell_type": "markdown",
   "metadata": {},
   "source": [
    "#Analisis\n",
    "Columnas de cada registro: \n",
    "    Id\n",
    "    ProductId\n",
    "    UserId\n",
    "    ProfileName\n",
    "    HelpfulnessNumerator\n",
    "    HelpfulnessDenominator\n",
    "    Score\n",
    "    Time\n",
    "    Summary\n",
    "    Text"
   ]
  }
 ],
 "metadata": {
  "language_info": {
   "name": "python"
  }
 },
 "nbformat": 4,
 "nbformat_minor": 2
}
