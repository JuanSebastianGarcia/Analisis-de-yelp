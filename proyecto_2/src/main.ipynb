{
 "cells": [
  {
   "cell_type": "markdown",
   "metadata": {},
   "source": [
    "## Analisis ##\n",
    "En este proyecto queremos analizar cuales suelen ser los sentimientos(positivos o negativos) en las reseñas dejadas por los usuarios.\n",
    "Cada reseña cuanta con una variedad de datos, que son:\n",
    "\n",
    "• ID: A unique ID for each row in the dataset\n",
    "\n",
    "• ProductId: A reference to the product that the review is about\n",
    "\n",
    "• UserId: A reference to the user who left the review\n",
    "\n",
    "• HelpfulnessNumerator: The number of readers of the review who indicated that it was \"helpful\"\n",
    "\n",
    "• HelpfulnessDenominator: The total number of people who gave an indication of whether or not the review was \"helpful\"\n",
    "\n",
    "• Score: The star rating (1-5)\n",
    "\n",
    "\n",
    "• Time: A Unix timestamp indicating when the review was created\n",
    "\n",
    "• Summary: The user-written summary of what the review is about\n",
    "\n",
    "• Text: The user-written review"
   ]
  },
  {
   "cell_type": "markdown",
   "metadata": {},
   "source": [
    "## Leer y preparar los datos ##\n",
    "\n",
    "Se lee toda la data del archivo csv que se va a procesar y se deja listo en una variable\n"
   ]
  },
  {
   "cell_type": "code",
   "execution_count": 48,
   "metadata": {},
   "outputs": [],
   "source": [
    "import pandas as pd\n",
    "\n",
    "data = pd.read_csv('../data/Reviews.csv',nrows=500000)"
   ]
  },
  {
   "cell_type": "markdown",
   "metadata": {},
   "source": [
    "## Parte 1 ##\n",
    "PAra la primera parte, los registros van a ser reclasificados segun a calificacion en estrellas. las reseñas que tengan 4-5 estrellas, seran remplazadas con una calificacion 1 que sera una clasificacion positiva, las reseñas que tengan 1-2 estrellas seran remplazadas con un cero, y las reseñas que esten con una calificacion de 3 estrellas seran eliminadas."
   ]
  },
  {
   "cell_type": "code",
   "execution_count": 50,
   "metadata": {},
   "outputs": [
    {
     "name": "stdout",
     "output_type": "stream",
     "text": [
      "0         0\n",
      "1         0\n",
      "2         0\n",
      "3         0\n",
      "4         0\n",
      "         ..\n",
      "499994    0\n",
      "499995    0\n",
      "499997    0\n",
      "499998    0\n",
      "499999    0\n",
      "Name: Score, Length: 462391, dtype: int64\n"
     ]
    }
   ],
   "source": [
    "import numpy as np\n",
    "\n",
    "#modiicar la columna score\n",
    "data['Score'] = np.where(data['Score'] >= 4, 1, np.where(data['Score'] <= 2, 0, data['Score']))\n",
    "\n",
    "\n",
    "# Eliminar las filas donde 'Score' sea igual a 3 (si es necesario)\n",
    "index_to_drop = data[data['Score'] == 3].index\n",
    "\n",
    "# Crear un nuevo DataFrame sin las filas que cumplen la condición\n",
    "data_clean = data.drop(index_to_drop)\n"
   ]
  }
 ],
 "metadata": {
  "kernelspec": {
   "display_name": "proyecto_de_yelp-j_kxu5WQ-py3.12",
   "language": "python",
   "name": "python3"
  },
  "language_info": {
   "codemirror_mode": {
    "name": "ipython",
    "version": 3
   },
   "file_extension": ".py",
   "mimetype": "text/x-python",
   "name": "python",
   "nbconvert_exporter": "python",
   "pygments_lexer": "ipython3",
   "version": "3.12.4"
  }
 },
 "nbformat": 4,
 "nbformat_minor": 2
}
