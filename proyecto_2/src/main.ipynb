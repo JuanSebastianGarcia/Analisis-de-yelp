{
 "cells": [
  {
   "cell_type": "markdown",
   "metadata": {},
   "source": [
    "## Analisis ##\n",
    "En este proyecto queremos analizar cuales suelen ser los sentimientos(positivos o negativos) en las reseñas dejadas por los usuarios.\n",
    "Cada reseña cuanta con una variedad de datos, que son:\n",
    "\n",
    "• ID: A unique ID for each row in the dataset\n",
    "\n",
    "• ProductId: A reference to the product that the review is about\n",
    "\n",
    "• UserId: A reference to the user who left the review\n",
    "\n",
    "• HelpfulnessNumerator: The number of readers of the review who indicated that it was \"helpful\"\n",
    "\n",
    "• HelpfulnessDenominator: The total number of people who gave an indication of whether or not the review was \"helpful\"\n",
    "\n",
    "• Score: The star rating (1-5)\n",
    "\n",
    "\n",
    "• Time: A Unix timestamp indicating when the review was created\n",
    "\n",
    "• Summary: The user-written summary of what the review is about\n",
    "\n",
    "• Text: The user-written review"
   ]
  },
  {
   "cell_type": "markdown",
   "metadata": {},
   "source": [
    "## Leer y preparar los datos ##\n",
    "\n",
    "Se lee toda la data del archivo csv que se va a procesar y se deja listo en una variable\n"
   ]
  },
  {
   "cell_type": "code",
   "execution_count": 61,
   "metadata": {},
   "outputs": [],
   "source": [
    "import pandas as pd\n",
    "\n",
    "data = pd.read_csv('../data/Reviews.csv',nrows=5000)"
   ]
  },
  {
   "cell_type": "markdown",
   "metadata": {},
   "source": [
    "## Parte 1 ##\n",
    "Para la primera parte, los registros van a ser reclasificados segun a calificacion en estrellas. las reseñas que tengan 4-5 estrellas, seran remplazadas con una calificacion 1 que sera una clasificacion positiva, las reseñas que tengan 1-2 estrellas seran remplazadas con un cero, y las reseñas que esten con una calificacion de 3 estrellas seran eliminadas."
   ]
  },
  {
   "cell_type": "code",
   "execution_count": 62,
   "metadata": {},
   "outputs": [],
   "source": [
    "import numpy as np\n",
    "\n",
    "#modiicar la columna score\n",
    "data['Score'] = np.where(data['Score'] >= 4, 1, np.where(data['Score'] <= 2, 0, data['Score']))\n",
    "\n",
    "\n",
    "# Eliminar las filas donde 'Score' sea igual a 3 (si es necesario)\n",
    "index_to_drop = data[data['Score'] == 3].index\n",
    "\n",
    "# Crear un nuevo DataFrame sin las filas que cumplen la condición\n",
    "data_clean = data.drop(index_to_drop)\n",
    "\n"
   ]
  },
  {
   "cell_type": "markdown",
   "metadata": {},
   "source": [
    "Se cambian todas las palabras de la columna de texto a minusculas, ademas se eliminan los caracteres especiales\n"
   ]
  },
  {
   "cell_type": "code",
   "execution_count": 63,
   "metadata": {},
   "outputs": [],
   "source": [
    "import re\n",
    "\n",
    "#convertir todos los textos necesarios a minusculas+\n",
    "data_clean['Text']=data_clean['Text'].str.lower()\n",
    "\n",
    "# Convertir a minúsculas y eliminar caracteres especiales en las dos columnas\n",
    "data_clean['Text'] = data_clean['Text'].apply(lambda x: re.sub(r'[^a-zA-Z\\s]', '', x))\n"
   ]
  },
  {
   "cell_type": "markdown",
   "metadata": {},
   "source": [
    "Se realiza la tokenizacion de palabras de la columna texto, y a su vez se eliminan los stop words"
   ]
  },
  {
   "cell_type": "code",
   "execution_count": 64,
   "metadata": {},
   "outputs": [
    {
     "name": "stderr",
     "output_type": "stream",
     "text": [
      "[nltk_data] Downloading package stopwords to C:\\Users\\MARTHA ISABEL\n",
      "[nltk_data]     VILLAM\\AppData\\Roaming\\nltk_data...\n",
      "[nltk_data]   Package stopwords is already up-to-date!\n"
     ]
    }
   ],
   "source": [
    "import nltk\n",
    "from nltk.corpus import stopwords  \n",
    "\n",
    "nltk.download('stopwords')\n",
    "stop_words = set(stopwords.words('english'))\n",
    "\n",
    "\n",
    "#se agrega una columna con las palabras tokenizadas\n",
    "data_clean['TextTokens']=data_clean['Text'].apply(lambda x: nltk.word_tokenize(x))\n",
    "\n",
    "#se eliminan los stopwords de los tokens\n",
    "data_clean['TextTokens']= data_clean['TextTokens'].apply(lambda tokens: [word for word in tokens if word.lower() not in stop_words])\n",
    "\n"
   ]
  },
  {
   "cell_type": "markdown",
   "metadata": {},
   "source": [
    "Realizamos una nube de palabras para ver como estan los textos positivos y negativos teniendo en cuenta la calificacion de score establecida anterioremente\n",
    "score = 1 (positivos)\n",
    "score = 0 (negativo)"
   ]
  },
  {
   "cell_type": "code",
   "execution_count": null,
   "metadata": {},
   "outputs": [],
   "source": [
    "from wordcloud import WordCloud \n",
    "import matplotlib.pyplot as plt\n",
    "\n",
    "#unimos todos los textos de los comentarios positivos\n",
    "reviews_pos=data_clean[data_clean['Score']==1]\n",
    "all_reviews_pos=''.join(reviews_pos['Text'])\n",
    "\n",
    "#unimos todos los textos de los comentarios negativos\n",
    "reviews_neg=data_clean[data_clean['Score']==0]\n",
    "all_reviews_neg=''.join(reviews_neg['Text'])\n",
    "\n",
    "# Generar la nube de palabras\n",
    "wordcloud = WordCloud(max_font_size=100, max_words=100, background_color=\"white\", scale=10, width=800, height=400).generate(all_reviews_pos)\n",
    "    \n",
    "# Visualizar la nube de palabras\n",
    "plt.figure(figsize=(10, 6))\n",
    "plt.imshow(wordcloud, interpolation=\"bilinear\")\n",
    "plt.axis(\"off\")\n",
    "plt.title(f'Nube de Palabras para Reseñas  positivas ', fontsize=14)\n",
    "plt.show()\n",
    "\n",
    "\n",
    "# Generar la nube de palabras\n",
    "wordcloud = WordCloud(max_font_size=100, max_words=100, background_color=\"white\", scale=10, width=800, height=400).generate(all_reviews_neg)\n",
    "    \n",
    "# Visualizar la nube de palabras\n",
    "plt.figure(figsize=(10, 6))\n",
    "plt.imshow(wordcloud, interpolation=\"bilinear\")\n",
    "plt.axis(\"off\")\n",
    "plt.title(f'Nube de Palabras para Reseñas negativas ', fontsize=14)\n",
    "plt.show()\n",
    "\n"
   ]
  },
  {
   "cell_type": "markdown",
   "metadata": {},
   "source": [
    "## Parte 2 ##"
   ]
  }
 ],
 "metadata": {
  "kernelspec": {
   "display_name": "proyecto_de_yelp-j_kxu5WQ-py3.12",
   "language": "python",
   "name": "python3"
  },
  "language_info": {
   "codemirror_mode": {
    "name": "ipython",
    "version": 3
   },
   "file_extension": ".py",
   "mimetype": "text/x-python",
   "name": "python",
   "nbconvert_exporter": "python",
   "pygments_lexer": "ipython3",
   "version": "3.12.4"
  }
 },
 "nbformat": 4,
 "nbformat_minor": 2
}
