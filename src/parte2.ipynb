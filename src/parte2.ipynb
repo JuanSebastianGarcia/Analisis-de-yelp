{
 "cells": [
  {
   "cell_type": "markdown",
   "metadata": {},
   "source": [
    "# Tokenizacion #\n",
    "Para el primer paso, tokenizaremos los titulos de youtobe."
   ]
  },
  {
   "cell_type": "code",
   "execution_count": 2,
   "metadata": {},
   "outputs": [
    {
     "name": "stderr",
     "output_type": "stream",
     "text": [
      "[nltk_data] Downloading package punkt to C:\\Users\\MARTHA ISABEL\n",
      "[nltk_data]     VILLAM\\AppData\\Roaming\\nltk_data...\n",
      "[nltk_data]   Package punkt is already up-to-date!\n",
      "[nltk_data] Downloading package punkt_tab to C:\\Users\\MARTHA ISABEL\n",
      "[nltk_data]     VILLAM\\AppData\\Roaming\\nltk_data...\n",
      "[nltk_data]   Package punkt_tab is already up-to-date!\n"
     ]
    },
    {
     "ename": "TypeError",
     "evalue": "read_csv() got an unexpected keyword argument 'errors'",
     "output_type": "error",
     "traceback": [
      "\u001b[1;31m---------------------------------------------------------------------------\u001b[0m",
      "\u001b[1;31mTypeError\u001b[0m                                 Traceback (most recent call last)",
      "Cell \u001b[1;32mIn[2], line 8\u001b[0m\n\u001b[0;32m      5\u001b[0m nltk\u001b[38;5;241m.\u001b[39mdownload(\u001b[38;5;124m'\u001b[39m\u001b[38;5;124mpunkt_tab\u001b[39m\u001b[38;5;124m'\u001b[39m)\n\u001b[0;32m      7\u001b[0m \u001b[38;5;66;03m# Cargar el archivo CSV\u001b[39;00m\n\u001b[1;32m----> 8\u001b[0m data \u001b[38;5;241m=\u001b[39m \u001b[43mpd\u001b[49m\u001b[38;5;241;43m.\u001b[39;49m\u001b[43mread_csv\u001b[49m\u001b[43m(\u001b[49m\u001b[38;5;124;43m'\u001b[39;49m\u001b[38;5;124;43m../data/MXvideos.csv\u001b[39;49m\u001b[38;5;124;43m'\u001b[39;49m\u001b[43m,\u001b[49m\u001b[43m \u001b[49m\u001b[43mnrows\u001b[49m\u001b[38;5;241;43m=\u001b[39;49m\u001b[38;5;241;43m40000\u001b[39;49m\u001b[43m,\u001b[49m\u001b[43m \u001b[49m\u001b[43merrors\u001b[49m\u001b[38;5;241;43m=\u001b[39;49m\u001b[38;5;124;43m'\u001b[39;49m\u001b[38;5;124;43mignore\u001b[39;49m\u001b[38;5;124;43m'\u001b[39;49m\u001b[43m)\u001b[49m  \u001b[38;5;66;03m# Cargar las primeras 5000 filas\u001b[39;00m\n\u001b[0;32m      9\u001b[0m allReviews \u001b[38;5;241m=\u001b[39m data[\u001b[38;5;124m'\u001b[39m\u001b[38;5;124mtitle\u001b[39m\u001b[38;5;124m'\u001b[39m]  \u001b[38;5;66;03m# Extraer la columna de texto\u001b[39;00m\n\u001b[0;32m     11\u001b[0m tokesReview \u001b[38;5;241m=\u001b[39m{}\u001b[38;5;66;03m#arreglo de tokens\u001b[39;00m\n",
      "\u001b[1;31mTypeError\u001b[0m: read_csv() got an unexpected keyword argument 'errors'"
     ]
    }
   ],
   "source": [
    "import nltk\n",
    "import pandas as pd\n",
    "\n",
    "nltk.download('punkt')\n",
    "nltk.download('punkt_tab')\n",
    "\n",
    "# Cargar el archivo CSV\n",
    "data = pd.read_csv('../data/MXvideos.csv', nrows=40000, errors='ignore')  # Cargar las primeras 5000 filas\n",
    "allReviews = data['title']  # Extraer la columna de texto\n",
    "\n",
    "tokesReview ={}#arreglo de tokens\n",
    "\n",
    "for iterador, review in enumerate(allReviews):\n",
    "    \n",
    "    # Tokenizar la reseña\n",
    "    tokens = nltk.word_tokenize(review)\n",
    "    video_id = data.iloc[iterador]['video_id']\n",
    "\n",
    "    # Asignar los tokens a su 'review_id' correspondiente\n",
    "    tokesReview[video_id] = tokens\n",
    "\n",
    "    # Incrementamos el iterador\n",
    "    iterador += 1"
   ]
  }
 ],
 "metadata": {
  "kernelspec": {
   "display_name": "proyecto_de_yelp-j_kxu5WQ-py3.12",
   "language": "python",
   "name": "python3"
  },
  "language_info": {
   "codemirror_mode": {
    "name": "ipython",
    "version": 3
   },
   "file_extension": ".py",
   "mimetype": "text/x-python",
   "name": "python",
   "nbconvert_exporter": "python",
   "pygments_lexer": "ipython3",
   "version": "3.12.4"
  }
 },
 "nbformat": 4,
 "nbformat_minor": 2
}
