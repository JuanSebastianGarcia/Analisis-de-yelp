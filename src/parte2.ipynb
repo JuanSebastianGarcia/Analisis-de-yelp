{
 "cells": [
  {
   "cell_type": "markdown",
   "metadata": {},
   "source": [
    "# Tokenizacion #\n",
    "Para el primer paso, tokenizaremos los titulos de youtobe."
   ]
  },
  {
   "cell_type": "code",
   "execution_count": null,
   "metadata": {},
   "outputs": [],
   "source": [
    "import nltk\n",
    "import pandas as pd\n",
    "\n",
    "nltk.download('punkt')\n",
    "\n",
    "# Cargar el archivo CSV con las primeras 40,000 filas\n",
    "data = pd.read_csv('../data/MXvideos.csv', nrows=40000, encoding='ISO-8859-1')\n",
    "\n",
    "# Extraer la columna de títulos\n",
    "allTitles = data['title'].dropna().drop_duplicates()\n",
    "\n",
    "tokesReview ={}#arreglo de tokens\n",
    "\n",
    "for iterador, review in enumerate(allTitles):\n",
    "    \n",
    "    # Tokenizar la reseña\n",
    "    tokens = nltk.word_tokenize(review)\n",
    "    video_id = data.iloc[iterador]['video_id']\n",
    "\n",
    "    # Asignar los tokens a su 'review_id' correspondiente\n",
    "    tokesReview[video_id] = tokens\n",
    "\n",
    "    # Incrementamos el iterador\n",
    "    iterador += 1\n"
   ]
  },
  {
   "cell_type": "markdown",
   "metadata": {},
   "source": [
    "# Se analiza la similitud con el titulo deseado #"
   ]
  },
  {
   "cell_type": "code",
   "execution_count": 18,
   "metadata": {},
   "outputs": [
    {
     "name": "stdout",
     "output_type": "stream",
     "text": [
      "22137        COMIDA MEXICANA  EN ESTADOS UNIDOS | EL GUZII\n",
      "28535              RED+ | Estados Unidos bombardea a Siria\n",
      "4891                Truena Tv Azteca en los Estados Unidos\n",
      "3952     Los 6 Autos mas Importantes de Estados Unidos ...\n",
      "28724    Rusia responde a ataque de Estados Unidos a Siria\n",
      "15581      Â¿PodrÃ­a MÃXICO luchar contra ESTADOS UNIDOS?\n",
      "1641     Daniel El Travieso - RegresÃ³ De Los Estados U...\n",
      "30234         VÃ­deos Del ATAQUE de Estados Unidos A Siria\n",
      "2781     InformaciÃ³n De La Luna 27 De Noviembre De 201...\n",
      "16306    DetrÃ¡s de la RazÃ³n - Â¿Rusia contra Estados ...\n",
      "Name: title, dtype: object\n"
     ]
    }
   ],
   "source": [
    "from sklearn.feature_extraction.text import TfidfVectorizer\n",
    "from sklearn.metrics.pairwise import cosine_similarity\n",
    "\n",
    "# Función para encontrar los títulos más similares a un título dado\n",
    "def find_similar_titles(input_title, allTitles, top_n=10):\n",
    "    # Se utiliza TF-IDF para vectorizar los títulos\n",
    "    vectorizer = TfidfVectorizer()\n",
    "    tfidf_matrix = vectorizer.fit_transform(allTitles)\n",
    "\n",
    "    # Transformar el título ingresado utilizando el mismo modelo de vectorización\n",
    "    input_title_tfidf = vectorizer.transform([input_title])\n",
    "\n",
    "    # Calcular la similitud de coseno entre el título proporcionado y los demás\n",
    "    cosine_similarities = cosine_similarity(input_title_tfidf, tfidf_matrix).flatten()\n",
    "\n",
    "    # Obtener los índices de los títulos con mayor similitud\n",
    "    top_n_similar_indices = cosine_similarities.argsort()[-(top_n+1):-1][::-1]\n",
    "\n",
    "    # Devolver los títulos más similares\n",
    "    similar_titles = allTitles.iloc[top_n_similar_indices]\n",
    "    return similar_titles\n",
    "\n",
    "# Título que deseas comparar\n",
    "input_title = \"Estados Unidos\"  # Agrega el deseado\n",
    "\n",
    "# Buscar y mostrar los 10 títulos más similares\n",
    "similar_titles = find_similar_titles(input_title, allTitles)\n",
    "print(similar_titles)\n"
   ]
  }
 ],
 "metadata": {
  "kernelspec": {
   "display_name": "proyecto_de_yelp-j_kxu5WQ-py3.12",
   "language": "python",
   "name": "python3"
  },
  "language_info": {
   "codemirror_mode": {
    "name": "ipython",
    "version": 3
   },
   "file_extension": ".py",
   "mimetype": "text/x-python",
   "name": "python",
   "nbconvert_exporter": "python",
   "pygments_lexer": "ipython3",
   "version": "3.11.1"
  }
 },
 "nbformat": 4,
 "nbformat_minor": 2
}
