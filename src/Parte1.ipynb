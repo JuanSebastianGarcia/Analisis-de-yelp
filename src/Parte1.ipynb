{
 "cells": [
  {
   "cell_type": "markdown",
   "id": "77d0d0d5",
   "metadata": {},
   "source": [
    "# Análisis de Procesamiento de Lenguaje Natural (PLN)"
   ]
  },
  {
   "cell_type": "markdown",
   "id": "49e01bc5",
   "metadata": {},
   "source": [
    "## Exercise 1\n",
    "Dado el conjunto de datos de reseñas, podemos responder preguntas como:\n",
    "- ¿Cuáles son los factores más importantes que generan críticas negativas?\n",
    "- ¿Un cambio de política reciente mejoró nuestras revisiones?\n",
    "\n",
    "Sin embargo, para responder preguntas más específicas, como:\n",
    "- ¿Cuál es la tendencia de las críticas a lo largo del tiempo?\n",
    "necesitaríamos datos adicionales como información temporal."
   ]
  },
  {
   "cell_type": "markdown",
   "id": "36faebe9",
   "metadata": {},
   "source": [
    "## Exercise 2\n",
    "Realizar un análisis exploratorio de los tamaños de las reseñas: encontrar la más corta y la más larga y trazar un histograma de la distribución de las longitudes de las reseñas."
   ]
  },
  {
   "cell_type": "code",
   "execution_count": null,
   "id": "7dc58dc7",
   "metadata": {},
   "outputs": [],
   "source": [
    "import matplotlib.pyplot as plt\n",
    "import seaborn as sns\n",
    "import nltk\n",
    "nltk.download('punkt')\n",
    "from nltk.tokenize import word_tokenize\n",
    "\n",
    "# Calculamos el número de palabras en cada reseña\n",
    "data['review_length'] = AllReviews.apply(lambda x: len(word_tokenize(x)))\n",
    "\n",
    "# Encontramos la reseña más corta y la más larga\n",
    "shortest_review = data.loc[data['review_length'].idxmin()]['text']\n",
    "longest_review = data.loc[data['review_length'].idxmax()]['text']\n",
    "\n",
    "print(f\"Reseña más corta (longitud {data['review_length'].min()} palabras):\\n{shortest_review}\\n\")\n",
    "print(f\"Reseña más larga (longitud {data['review_length'].max()} palabras):\\n{longest_review}\\n\")\n",
    "\n",
    "# Graficar el histograma de longitudes de reseñas\n",
    "plt.figure(figsize=(10,6))\n",
    "sns.histplot(data['review_length'], bins=30, kde=True)\n",
    "plt.title(\"Distribución de las longitudes de las reseñas\")\n",
    "plt.xlabel(\"Número de palabras\")\n",
    "plt.ylabel(\"Frecuencia\")\n",
    "plt.show()\n"
   ]
  },
  {
   "cell_type": "markdown",
   "id": "a0ea03c5",
   "metadata": {},
   "source": [
    "## Exercise 3\n",
    "Crear una función `word_cloud_rating(data, star_value)` para construir una nube de palabras a partir de las reseñas que tienen un valor específico de estrellas. Visualizar los resultados para reseñas de 1 estrella."
   ]
  },
  {
   "cell_type": "markdown",
   "id": "5993c706",
   "metadata": {},
   "source": [
    "## Exercise 4\n",
    "Investigar por qué la palabra 'good' aparece con frecuencia en las reseñas negativas y proporcionar una explicación razonable."
   ]
  },
  {
   "cell_type": "markdown",
   "id": "70274e7b",
   "metadata": {},
   "source": [
    "## Exercise 5\n",
    "Encontrar todas las palabras de alta frecuencia (top 1%) y de baja frecuencia (bottom 1%) en las reseñas en general usando la función `Counter()` de la clase `collections`."
   ]
  },
  {
   "cell_type": "markdown",
   "id": "0dc7eb5a",
   "metadata": {},
   "source": [
    "## Exercise 6\n",
    "Escribir una función llamada `top_k_ngrams(word_tokens, n, k)` para imprimir los principales k n-gramas. Usar esta función para obtener los principales 10 1-gramas, 2-gramas y 3-gramas de las primeras 1000 reseñas."
   ]
  },
  {
   "cell_type": "markdown",
   "id": "fb530ee0",
   "metadata": {},
   "source": [
    "## Exercise 7.1\n",
    "Filtrar todas las stop words en la primera reseña de los datos de Yelp y mostrar la respuesta, así como las stop words encontradas."
   ]
  },
  {
   "cell_type": "markdown",
   "id": "9df197d3",
   "metadata": {},
   "source": [
    "## Exercise 7.2\n",
    "Modificar la función `top_k_ngrams(word_tokens, n, k)` para eliminar las stop words antes de determinar los n-gramas."
   ]
  },
  {
   "cell_type": "markdown",
   "id": "2a7bae95",
   "metadata": {},
   "source": [
    "## Exercise 8.1\n",
    "Dividir los datos en 'buenas reseñas' (rating de estrellas mayor a 3) y 'malas reseñas' (rating de estrellas menor o igual a 3) y hacer un gráfico de barras de las 20 palabras principales en cada caso."
   ]
  },
  {
   "cell_type": "markdown",
   "id": "07c37c19",
   "metadata": {},
   "source": [
    "## Exercise 8.2\n",
    "Usar la función `get_top_n_words()` para encontrar los 20 principales bigramas y trigramas (en malas y buenas reseñas). Evaluar si los resultados son útiles."
   ]
  },
  {
   "cell_type": "markdown",
   "id": "fb28ed29",
   "metadata": {},
   "source": [
    "## Exercise 9.1\n",
    "Observar que muchos de los importantes bigramas 'malos' incluyen las palabras 'like' o 'just'. Dar ideas sobre cómo utilizar esta observación en el futuro preprocesamiento de las reseñas."
   ]
  },
  {
   "cell_type": "markdown",
   "id": "6a162272",
   "metadata": {},
   "source": [
    "## Exercise 9.2\n",
    "1. Escribir una queja que probablemente no se capte completamente mediante el análisis de bigramas.\n",
    "2. Escribir un paso de procesamiento que solucione este problema."
   ]
  }
 ],
 "metadata": {
  "kernelspec": {
   "display_name": "Python 3",
   "language": "python",
   "name": "python3"
  },
  "language_info": {
   "codemirror_mode": {
    "name": "ipython",
    "version": 3
   },
   "file_extension": ".py",
   "mimetype": "text/x-python",
   "name": "python",
   "nbconvert_exporter": "python",
   "pygments_lexer": "ipython3",
   "version": "3.11.1"
  }
 },
 "nbformat": 4,
 "nbformat_minor": 5
}
