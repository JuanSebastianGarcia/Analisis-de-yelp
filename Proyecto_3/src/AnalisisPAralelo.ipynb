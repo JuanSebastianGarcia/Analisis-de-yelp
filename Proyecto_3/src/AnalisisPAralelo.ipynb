{
 "cells": [
  {
   "cell_type": "markdown",
   "metadata": {},
   "source": [
    "# Proyecto #3 #\n",
    "El proyecto 3 consiste en hacer una pequeña practica para notar las diferencias entre el procesamiento basico que se ha trabajado en los 2 proyectos anteriores y el procesamiento de datos en paralelo usando pyspark\n"
   ]
  },
  {
   "cell_type": "markdown",
   "metadata": {},
   "source": [
    "Anteriormente, la forma en las que extraiamos las n palabras mas relevantes de un conjunto de informacion, usabamos la siguiente manera."
   ]
  },
  {
   "cell_type": "markdown",
   "metadata": {},
   "source": [
    "Extraemos el conjunto de datos que sera procesado"
   ]
  },
  {
   "cell_type": "code",
   "execution_count": 10,
   "metadata": {},
   "outputs": [
    {
     "name": "stdout",
     "output_type": "stream",
     "text": [
      "The Project Gutenberg eBook of The Declaration of Independence of the United States of America\n",
      "\n",
      "    \n",
      "\n",
      "This ebook is for the use of anyone anywhere in the United States and\n",
      "\n",
      "most other parts of the world at no cost and with almost no restrictions\n",
      "\n",
      "whatsoever. You may copy it, give it away or re-use it under the terms\n",
      "\n",
      "of the Project Gutenberg License included with this ebook or online\n",
      "\n",
      "at www.gutenberg.org. If you are not located in the United States,\n",
      "\n",
      "you will have to check the laws of the country where you are located\n",
      "\n",
      "before using this eBook.\n",
      "\n",
      "\n",
      "\n",
      "Title: The Declaration of Independence of the United States of America\n",
      "\n",
      "\n",
      "\n",
      "Author: Thomas Jefferson\n",
      "\n",
      "\n",
      "\n",
      "Release date: December 1, 1971 [eBook #1]\n",
      "\n",
      "                Most recently updated: January 1, 2021\n",
      "\n",
      "\n",
      "\n",
      "Language: English\n"
     ]
    }
   ],
   "source": [
    "#se accede al archivo libros\n",
    "with open('prueba.txt','r') as archivo:\n",
    "    libros=archivo.read()\n",
    "\n",
    "    print(libros)"
   ]
  },
  {
   "cell_type": "markdown",
   "metadata": {},
   "source": [
    "Despues de tener el archivo cargado, vamos a hacer el proceso tradicional para poder calcular las 20 palabras mas importantes.\n",
    "procederemos un pre-procesmiento para dejar listos los datos. vamos a eliminar espacios en el documento, ademas de todo tipo de caracteres que no sean alfanumericos"
   ]
  },
  {
   "cell_type": "code",
   "execution_count": 11,
   "metadata": {},
   "outputs": [
    {
     "name": "stdout",
     "output_type": "stream",
     "text": [
      "Los caracteres epeciales fueron eliminados:  The Project Gutenberg eBook of The Declaration of Independence of the United States of America\n",
      "\n",
      "    \n",
      "\n",
      "This ebook is for the use of anyone anywhere in the United States and\n",
      "\n",
      "most other parts of the world at no cost and with almost no restrictions\n",
      "\n",
      "whatsoever You may copy it give it away or reuse it under the terms\n",
      "\n",
      "of the Project Gutenberg License included with this ebook or online\n",
      "\n",
      "at wwwgutenbergorg If you are not located in the United States\n",
      "\n",
      "you will have to check the laws of the country where you are located\n",
      "\n",
      "before using this eBook\n",
      "\n",
      "\n",
      "\n",
      "Title The Declaration of Independence of the United States of America\n",
      "\n",
      "\n",
      "\n",
      "Author Thomas Jefferson\n",
      "\n",
      "\n",
      "\n",
      "Release date December 1 1971 eBook 1\n",
      "\n",
      "                Most recently updated January 1 2021\n",
      "\n",
      "\n",
      "\n",
      "Language English\n"
     ]
    }
   ],
   "source": [
    "import re #libreria para trabajar con expresiones regulares\n",
    "\n",
    "#almacenamos los datos sin caracteres especiales\n",
    "libros = re.sub(r'[^a-zA-Z0-9\\s]', '', libros)\n",
    "\n",
    "print(f'Los caracteres epeciales fueron eliminados:  {libros}')"
   ]
  },
  {
   "cell_type": "markdown",
   "metadata": {},
   "source": [
    "Antes de eliminar los stopwords, vamos a tokenizar el texto. "
   ]
  },
  {
   "cell_type": "code",
   "execution_count": 12,
   "metadata": {},
   "outputs": [
    {
     "name": "stdout",
     "output_type": "stream",
     "text": [
      "La lista de tokens se puede ver a continuacion:  ['The', 'Project', 'Gutenberg', 'eBook', 'of', 'The', 'Declaration', 'of', 'Independence', 'of', 'the', 'United', 'States', 'of', 'America', 'This', 'ebook', 'is', 'for', 'the', 'use', 'of', 'anyone', 'anywhere', 'in', 'the', 'United', 'States', 'and', 'most', 'other', 'parts', 'of', 'the', 'world', 'at', 'no', 'cost', 'and', 'with', 'almost', 'no', 'restrictions', 'whatsoever', 'You', 'may', 'copy', 'it', 'give', 'it', 'away', 'or', 'reuse', 'it', 'under', 'the', 'terms', 'of', 'the', 'Project', 'Gutenberg', 'License', 'included', 'with', 'this', 'ebook', 'or', 'online', 'at', 'wwwgutenbergorg', 'If', 'you', 'are', 'not', 'located', 'in', 'the', 'United', 'States', 'you', 'will', 'have', 'to', 'check', 'the', 'laws', 'of', 'the', 'country', 'where', 'you', 'are', 'located', 'before', 'using', 'this', 'eBook', 'Title', 'The', 'Declaration', 'of', 'Independence', 'of', 'the', 'United', 'States', 'of', 'America', 'Author', 'Thomas', 'Jefferson', 'Release', 'date', 'December', '1', '1971', 'eBook', '1', 'Most', 'recently', 'updated', 'January', '1', '2021', 'Language', 'English']\n"
     ]
    }
   ],
   "source": [
    "import nltk #libreria para tokenizar \n",
    "\n",
    "#tokenizar los libros\n",
    "tokens = nltk.word_tokenize(libros)\n",
    "\n",
    "print(f'La lista de tokens se puede ver a continuacion:  {tokens}')"
   ]
  },
  {
   "cell_type": "markdown",
   "metadata": {},
   "source": [
    "ahora, con las palabras tokenizadas, si se puede eliminar los stop words. los stopwords son palabras que no generan ningun tipo de relevancia al proceso\n",
    "\n"
   ]
  },
  {
   "cell_type": "code",
   "execution_count": null,
   "metadata": {},
   "outputs": [
    {
     "name": "stdout",
     "output_type": "stream",
     "text": [
      "Se eliminaron los stopwords:  ['The', 'Project', 'Gutenberg', 'eBook', 'The', 'Declaration', 'Independence', 'United', 'States', 'America', 'This', 'ebook', 'use', 'anyone', 'anywhere', 'United', 'States', 'parts', 'world', 'cost', 'almost', 'restrictions', 'whatsoever', 'You', 'may', 'copy', 'give', 'away', 'reuse', 'terms', 'Project', 'Gutenberg', 'License', 'included', 'ebook', 'online', 'wwwgutenbergorg', 'If', 'located', 'United', 'States', 'check', 'laws', 'country', 'located', 'using', 'eBook', 'Title', 'The', 'Declaration', 'Independence', 'United', 'States', 'America', 'Author', 'Thomas', 'Jefferson', 'Release', 'date', 'December', '1', '1971', 'eBook', '1', 'Most', 'recently', 'updated', 'January', '1', '2021', 'Language', 'English']\n"
     ]
    }
   ],
   "source": [
    "from nltk.corpus import stopwords #lista de stop words ya definida\n",
    "\n",
    "#almacenar las stopwords\n",
    "stopwords = set(stopwords.words('english'))\n",
    "\n",
    "#eliminamos los stopwords\n",
    "tokens_clean = [token for token in tokens if not str(token).lower() in stopwords]\n",
    "\n",
    "print(f'Se eliminaron los stopwords:  {tokens_clean}')"
   ]
  },
  {
   "cell_type": "markdown",
   "metadata": {},
   "source": [
    "Luego, vamos a generar una matriz de frecuencia"
   ]
  },
  {
   "cell_type": "code",
   "execution_count": 14,
   "metadata": {},
   "outputs": [
    {
     "name": "stdout",
     "output_type": "stream",
     "text": [
      "La siguiente es una matriz de frecuencia:    (0, 39)\t1.0\n",
      "  (1, 32)\t1.0\n",
      "  (2, 18)\t1.0\n",
      "  (3, 15)\t1.0\n",
      "  (4, 39)\t1.0\n",
      "  (5, 14)\t1.0\n",
      "  (6, 21)\t1.0\n",
      "  (7, 43)\t1.0\n",
      "  (8, 37)\t1.0\n",
      "  (9, 3)\t1.0\n",
      "  (10, 40)\t1.0\n",
      "  (11, 15)\t1.0\n",
      "  (12, 45)\t1.0\n",
      "  (13, 4)\t1.0\n",
      "  (14, 5)\t1.0\n",
      "  (15, 43)\t1.0\n",
      "  (16, 37)\t1.0\n",
      "  (17, 31)\t1.0\n",
      "  (18, 48)\t1.0\n",
      "  (19, 10)\t1.0\n",
      "  (20, 2)\t1.0\n",
      "  (21, 35)\t1.0\n",
      "  (22, 47)\t1.0\n",
      "  (23, 50)\t1.0\n",
      "  (24, 28)\t1.0\n",
      "  :\t:\n",
      "  (44, 27)\t1.0\n",
      "  (45, 46)\t1.0\n",
      "  (46, 15)\t1.0\n",
      "  (47, 42)\t1.0\n",
      "  (48, 39)\t1.0\n",
      "  (49, 14)\t1.0\n",
      "  (50, 21)\t1.0\n",
      "  (51, 43)\t1.0\n",
      "  (52, 37)\t1.0\n",
      "  (53, 3)\t1.0\n",
      "  (54, 6)\t1.0\n",
      "  (55, 41)\t1.0\n",
      "  (56, 23)\t1.0\n",
      "  (57, 34)\t1.0\n",
      "  (58, 12)\t1.0\n",
      "  (59, 13)\t1.0\n",
      "  (61, 0)\t1.0\n",
      "  (62, 15)\t1.0\n",
      "  (64, 29)\t1.0\n",
      "  (65, 33)\t1.0\n",
      "  (66, 44)\t1.0\n",
      "  (67, 22)\t1.0\n",
      "  (69, 1)\t1.0\n",
      "  (70, 24)\t1.0\n",
      "  (71, 16)\t1.0\n"
     ]
    }
   ],
   "source": [
    "from sklearn.feature_extraction.text import TfidfVectorizer #\n",
    "\n",
    "#hacemos una vectorizacion sobre los tokens \n",
    "vectorizer = TfidfVectorizer()\n",
    "\n",
    "#aplicamos el proceso de vectorizacion\n",
    "matriz_frecuencia = vectorizer.fit_transform(tokens_clean)\n",
    "\n",
    "print(f'La siguiente es una matriz de frecuencia:  {matriz_frecuencia}')"
   ]
  },
  {
   "cell_type": "markdown",
   "metadata": {},
   "source": [
    "y extraemos las 20 palabras mas importantes\n"
   ]
  },
  {
   "cell_type": "code",
   "execution_count": 15,
   "metadata": {},
   "outputs": [
    {
     "name": "stdout",
     "output_type": "stream",
     "text": [
      "['ebook', 'states', 'united', 'the', 'america', 'declaration', 'gutenberg', 'independence', 'located', 'project', '1971', '2021', 'almost', 'anyone', 'anywhere', 'author', 'away', 'check', 'copy', 'cost']\n"
     ]
    }
   ],
   "source": [
    "import pandas as pd #libreria para el manejo de datos o dataframe\n",
    "\n",
    "#obtener las palabras vectorizadas y la frecuencia\n",
    "frecuentia= matriz_frecuencia.toarray().sum(axis=0)\n",
    "palabras=vectorizer.get_feature_names_out()\n",
    "\n",
    "\n",
    "#generamos un dataframe con todas las palabras\n",
    "data = pd.DataFrame({'Palabra': palabras,'Frecuencia':frecuentia})\n",
    "\n",
    "#extraemos las 20 palabras mas frecuentes\n",
    "mas_repetidas = data.nlargest(20,'Frecuencia')['Palabra'].tolist()\n",
    "\n",
    "print(mas_repetidas)"
   ]
  }
 ],
 "metadata": {
  "kernelspec": {
   "display_name": "proyecto_de_yelp-j_kxu5WQ-py3.12",
   "language": "python",
   "name": "python3"
  },
  "language_info": {
   "codemirror_mode": {
    "name": "ipython",
    "version": 3
   },
   "file_extension": ".py",
   "mimetype": "text/x-python",
   "name": "python",
   "nbconvert_exporter": "python",
   "pygments_lexer": "ipython3",
   "version": "3.12.4"
  }
 },
 "nbformat": 4,
 "nbformat_minor": 2
}
