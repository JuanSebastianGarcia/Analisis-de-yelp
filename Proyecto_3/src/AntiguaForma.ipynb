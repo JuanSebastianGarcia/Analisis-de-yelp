{
 "cells": [
  {
   "cell_type": "markdown",
   "metadata": {},
   "source": [
    "# Proyecto #3 #\n",
    "El proyecto 3 consiste en hacer una pequeña practica para notar las diferencias entre el procesamiento basico que se ha trabajado en los 2 proyectos anteriores y el procesamiento de datos en paralelo usando pyspark\n"
   ]
  },
  {
   "cell_type": "markdown",
   "metadata": {},
   "source": [
    "Anteriormente, la forma en las que extraiamos las n palabras mas relevantes de un conjunto de informacion, usabamos la siguiente manera."
   ]
  },
  {
   "cell_type": "markdown",
   "metadata": {},
   "source": [
    "Extraemos el conjunto de datos que sera procesado"
   ]
  },
  {
   "cell_type": "code",
   "execution_count": null,
   "metadata": {},
   "outputs": [],
   "source": [
    "#se accede al archivo libros\n",
    "with open('../data/prueba.txt','r',encoding='utf-8') as archivo:\n",
    "    libros=archivo.read()\n",
    "\n",
    "    print(libros)"
   ]
  },
  {
   "cell_type": "markdown",
   "metadata": {},
   "source": [
    "Despues de tener el archivo cargado, vamos a hacer el proceso tradicional para poder calcular las 20 palabras mas importantes.\n",
    "procederemos un pre-procesmiento para dejar listos los datos. vamos a eliminar espacios en el documento, ademas de todo tipo de caracteres que no sean alfanumericos"
   ]
  },
  {
   "cell_type": "code",
   "execution_count": null,
   "metadata": {},
   "outputs": [],
   "source": [
    "import re #libreria para trabajar con expresiones regulares\n",
    "\n",
    "#almacenamos los datos sin caracteres especiales\n",
    "libros = re.sub(r'[^a-zA-Z0-9\\s]', '', libros)\n",
    "\n",
    "print(f'Los caracteres epeciales fueron eliminados:  {libros}')"
   ]
  },
  {
   "cell_type": "markdown",
   "metadata": {},
   "source": [
    "Antes de eliminar los stopwords, vamos a tokenizar el texto. "
   ]
  },
  {
   "cell_type": "code",
   "execution_count": null,
   "metadata": {},
   "outputs": [],
   "source": [
    "import nltk #libreria para tokenizar \n",
    "\n",
    "#tokenizar los libros\n",
    "tokens = nltk.word_tokenize(libros)\n",
    "\n",
    "print(f'La lista de tokens se puede ver a continuacion:  {tokens}')"
   ]
  },
  {
   "cell_type": "markdown",
   "metadata": {},
   "source": [
    "ahora, con las palabras tokenizadas, si se puede eliminar los stop words. los stopwords son palabras que no generan ningun tipo de relevancia al proceso\n",
    "\n"
   ]
  },
  {
   "cell_type": "code",
   "execution_count": null,
   "metadata": {},
   "outputs": [],
   "source": [
    "from nltk.corpus import stopwords #lista de stop words ya definida\n",
    "\n",
    "#almacenar las stopwords\n",
    "stopwords = set(stopwords.words('english'))\n",
    "\n",
    "#eliminamos los stopwords\n",
    "tokens_clean = [token for token in tokens if not str(token).lower() in stopwords]\n",
    "\n",
    "print(f'Se eliminaron los stopwords:  {tokens_clean}')"
   ]
  },
  {
   "cell_type": "markdown",
   "metadata": {},
   "source": [
    "Luego, vamos a generar una matriz de frecuencia"
   ]
  },
  {
   "cell_type": "code",
   "execution_count": null,
   "metadata": {},
   "outputs": [],
   "source": [
    "from sklearn.feature_extraction.text import TfidfVectorizer #\n",
    "\n",
    "#hacemos una vectorizacion sobre los tokens \n",
    "vectorizer = TfidfVectorizer()\n",
    "\n",
    "#aplicamos el proceso de vectorizacion\n",
    "matriz_frecuencia = vectorizer.fit_transform(tokens_clean)\n",
    "\n",
    "print(f'La siguiente es una matriz de frecuencia:  {matriz_frecuencia}')"
   ]
  },
  {
   "cell_type": "markdown",
   "metadata": {},
   "source": [
    "y extraemos las 20 palabras mas importantes\n"
   ]
  },
  {
   "cell_type": "code",
   "execution_count": null,
   "metadata": {},
   "outputs": [],
   "source": [
    "import pandas as pd #libreria para el manejo de datos o dataframe\n",
    "\n",
    "#obtener las palabras vectorizadas y la frecuencia\n",
    "frecuentia= matriz_frecuencia.toarray().sum(axis=0)\n",
    "palabras=vectorizer.get_feature_names_out()\n",
    "\n",
    "\n",
    "#generamos un dataframe con todas las palabras\n",
    "data = pd.DataFrame({'Palabra': palabras,'Frecuencia':frecuentia})\n",
    "\n",
    "#extraemos las 20 palabras mas frecuentes\n",
    "mas_repetidas = data.nlargest(20,'Frecuencia')['Palabra'].tolist()\n",
    "\n",
    "print(mas_repetidas)"
   ]
  }
 ],
 "metadata": {
  "kernelspec": {
   "display_name": "proyecto_de_yelp-j_kxu5WQ-py3.12",
   "language": "python",
   "name": "python3"
  },
  "language_info": {
   "codemirror_mode": {
    "name": "ipython",
    "version": 3
   },
   "file_extension": ".py",
   "mimetype": "text/x-python",
   "name": "python",
   "nbconvert_exporter": "python",
   "pygments_lexer": "ipython3",
   "version": "3.12.4"
  }
 },
 "nbformat": 4,
 "nbformat_minor": 2
}
